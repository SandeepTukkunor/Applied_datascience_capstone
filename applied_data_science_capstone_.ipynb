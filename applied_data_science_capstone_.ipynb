{
  "nbformat": 4,
  "nbformat_minor": 0,
  "metadata": {
    "colab": {
      "name": "applied data science capstone .ipynb",
      "provenance": [],
      "authorship_tag": "ABX9TyOdrtUFah7n5z4q6rMhZd1u",
      "include_colab_link": true
    },
    "kernelspec": {
      "name": "python3",
      "display_name": "Python 3"
    },
    "language_info": {
      "name": "python"
    }
  },
  "cells": [
    {
      "cell_type": "markdown",
      "metadata": {
        "id": "view-in-github",
        "colab_type": "text"
      },
      "source": [
        "<a href=\"https://colab.research.google.com/github/SandeepTukkunor/Applied_datascience_capstone/blob/main/applied_data_science_capstone_.ipynb\" target=\"_parent\"><img src=\"https://colab.research.google.com/assets/colab-badge.svg\" alt=\"Open In Colab\"/></a>"
      ]
    },
    {
      "cell_type": "markdown",
      "metadata": {
        "id": "8EhUbZuHBUGv"
      },
      "source": [
        "### This note book is used for IBM Data science professional certificates final capstone project. \n",
        "I have used google colab(jupyter notebooks) for completeing my project"
      ]
    },
    {
      "cell_type": "code",
      "metadata": {
        "id": "L8sZo2thBtcx"
      },
      "source": [
        "import pandas as pd\n",
        "import numpy as np"
      ],
      "execution_count": 1,
      "outputs": []
    },
    {
      "cell_type": "code",
      "metadata": {
        "colab": {
          "base_uri": "https://localhost:8080/"
        },
        "id": "mI4NILguByk8",
        "outputId": "b18fa6fb-7fc8-4041-d74e-9ee8467536df"
      },
      "source": [
        "print(\"Hello Capstone Project Course!\")"
      ],
      "execution_count": 2,
      "outputs": [
        {
          "output_type": "stream",
          "text": [
            "Hello Capstone Project Course!\n"
          ],
          "name": "stdout"
        }
      ]
    },
    {
      "cell_type": "code",
      "metadata": {
        "id": "YzNsW11mB3uo"
      },
      "source": [
        ""
      ],
      "execution_count": null,
      "outputs": []
    }
  ]
}